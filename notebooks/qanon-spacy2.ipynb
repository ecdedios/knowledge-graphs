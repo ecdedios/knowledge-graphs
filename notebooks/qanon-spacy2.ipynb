{
 "cells": [
  {
   "cell_type": "code",
   "execution_count": null,
   "id": "transsexual-booking",
   "metadata": {},
   "outputs": [],
   "source": [
    "# for manipulating dataframes\n",
    "import pandas as pd\n",
    "\n",
    "# for webscraping\n",
    "from requests import get\n",
    "from bs4 import BeautifulSoup\n",
    "\n",
    "# for natural language processing\n",
    "import spacy\n",
    "import en_core_web_md\n",
    "nlp = en_core_web_md.load()"
   ]
  },
  {
   "cell_type": "code",
   "execution_count": null,
   "id": "informative-county",
   "metadata": {},
   "outputs": [],
   "source": [
    "url = 'https://en.wikipedia.org/wiki/QAnon'\n",
    "response = get(url)"
   ]
  },
  {
   "cell_type": "code",
   "execution_count": null,
   "id": "vocational-karma",
   "metadata": {},
   "outputs": [],
   "source": [
    "print(response.text[:999])"
   ]
  },
  {
   "cell_type": "code",
   "execution_count": null,
   "id": "organic-belarus",
   "metadata": {},
   "outputs": [],
   "source": [
    "soup = BeautifulSoup(response.content, 'html.parser')"
   ]
  },
  {
   "cell_type": "code",
   "execution_count": null,
   "id": "inside-basement",
   "metadata": {},
   "outputs": [],
   "source": [
    "article = soup.find('div', class_='mw-parser-output')"
   ]
  },
  {
   "cell_type": "code",
   "execution_count": null,
   "id": "informative-mills",
   "metadata": {},
   "outputs": [],
   "source": [
    "print(article.text)"
   ]
  },
  {
   "cell_type": "code",
   "execution_count": null,
   "id": "hazardous-handy",
   "metadata": {},
   "outputs": [],
   "source": [
    "unwanted = article.find('div', role='note')\n",
    "unwanted.extract()"
   ]
  },
  {
   "cell_type": "code",
   "execution_count": null,
   "id": "peripheral-falls",
   "metadata": {},
   "outputs": [],
   "source": [
    "print(article.text)"
   ]
  },
  {
   "cell_type": "code",
   "execution_count": null,
   "id": "italian-application",
   "metadata": {},
   "outputs": [],
   "source": [
    "doc = nlp.make_doc(article.text)"
   ]
  },
  {
   "cell_type": "code",
   "execution_count": null,
   "id": "iraqi-latino",
   "metadata": {},
   "outputs": [],
   "source": [
    "for token in doc:\n",
    "    if token.is_alpha:\n",
    "        if not token.is_stop:\n",
    "            print(token.text, token.head.text)"
   ]
  },
  {
   "cell_type": "code",
   "execution_count": null,
   "id": "continent-holmes",
   "metadata": {},
   "outputs": [],
   "source": [
    "text_list = []\n",
    "head_list = []\n",
    "\n",
    "for token in doc:\n",
    "    if token.is_alpha:\n",
    "        if not token.is_stop:\n",
    "            text_list.append(token.text.lower())\n",
    "            head_list.append(token.head.text.lower())\n",
    "\n",
    "df = pd.DataFrame(list(zip(text_list, head_list)), \n",
    "               columns =['text', 'head']) "
   ]
  },
  {
   "cell_type": "code",
   "execution_count": null,
   "id": "numeric-poker",
   "metadata": {},
   "outputs": [],
   "source": [
    "df.head(9)"
   ]
  },
  {
   "cell_type": "code",
   "execution_count": null,
   "id": "constitutional-civilian",
   "metadata": {},
   "outputs": [],
   "source": [
    "df.to_csv('../data/out/qanon.csv', index=False)"
   ]
  },
  {
   "cell_type": "code",
   "execution_count": null,
   "id": "convertible-healthcare",
   "metadata": {},
   "outputs": [],
   "source": [
    "combos = df.groupby(['text','head']).size().reset_index().rename(columns={0:'count'}).sort_values('count', ascending=False)"
   ]
  },
  {
   "cell_type": "code",
   "execution_count": null,
   "id": "greater-caution",
   "metadata": {},
   "outputs": [],
   "source": [
    "combos.head(9)"
   ]
  },
  {
   "cell_type": "code",
   "execution_count": null,
   "id": "unlike-universal",
   "metadata": {},
   "outputs": [],
   "source": [
    "combos.to_csv('../data/out/qanon_combos.csv', index=False)"
   ]
  },
  {
   "cell_type": "code",
   "execution_count": null,
   "id": "contemporary-combining",
   "metadata": {},
   "outputs": [],
   "source": []
  }
 ],
 "metadata": {
  "kernelspec": {
   "display_name": "Python 3",
   "language": "python",
   "name": "python3"
  },
  "language_info": {
   "codemirror_mode": {
    "name": "ipython",
    "version": 3
   },
   "file_extension": ".py",
   "mimetype": "text/x-python",
   "name": "python",
   "nbconvert_exporter": "python",
   "pygments_lexer": "ipython3",
   "version": "3.8.7"
  }
 },
 "nbformat": 4,
 "nbformat_minor": 5
}
